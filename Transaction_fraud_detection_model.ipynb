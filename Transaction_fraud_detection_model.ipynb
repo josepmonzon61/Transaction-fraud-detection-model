{
  "cells": [
    {
      "cell_type": "markdown",
      "source": [
        "# Summary of the Fraud Detection Model\n",
        "**Model Overview:**\n",
        "\n",
        "The model is designed to detect fraudulent transactions in a credit card dataset. It is a neural network built using TensorFlow and Keras, which leverages multiple dense (fully connected) layers with ReLU activations and dropout layers to prevent overfitting. The final layer uses a sigmoid activation function to output a probability score between 0 and 1, indicating the likelihood of a transaction being fraudulent. The model is trained using binary cross-entropy loss and the Adam optimizer.\n",
        "\n",
        "**Dataset Description:**\n",
        "\n",
        "* The dataset used is the Credit Card Fraud Detection dataset, available on Kaggle. It contains transactions made by credit cards in September 2013 by European cardholders. The dataset includes:\n",
        "\n",
        "* Time: The seconds elapsed between this transaction and the first transaction in the dataset.\n",
        "\n",
        "* V1 to V28: The principal components obtained with PCA (Principal Component Analysis), which are anonymized features that have been transformed to protect sensitive information.\n",
        "\n",
        "* Amount: The transaction amount.\n",
        "\n",
        "* Class: The target variable, where 1 indicates a fraudulent transaction and 0 indicates a legitimate transaction.\n",
        "\n",
        "**Data Characteristics:**\n",
        "\n",
        "* Imbalanced Dataset: The dataset is highly imbalanced, with fraudulent transactions constituting a very small fraction of the total transactions. This characteristic requires careful handling during model evaluation and training to avoid biased results.\n",
        "\n",
        "* Preprocessing Steps: The data preprocessing includes separating features and the target variable, splitting the data into training, validation, and test sets, and normalizing the features using StandardScaler to ensure all features contribute equally to the model.\n",
        "\n",
        "**Model Evaluation:**\n",
        "\n",
        "Given the imbalanced nature of the dataset, evaluation metrics beyond accuracy are crucial:\n",
        "\n",
        "* Confusion Matrix: Shows true positives, true negatives, false positives, and false negatives, giving a clear picture of the model's performance.\n",
        "\n",
        "* Precision and Recall: Precision indicates how many of the predicted frauds were actual frauds, while recall indicates how many of the actual frauds were correctly identified by the model.\n",
        "\n",
        "* F1-Score: The harmonic mean of precision and recall, providing a balance between the two.\n",
        "\n",
        "* ROC-AUC Score: Measures the area under the receiver operating characteristic curve, summarizing the model's ability to distinguish between the classes at various thresholds.\n",
        "\n",
        "These metrics help in understanding the model's effectiveness in identifying fraudulent transactions while minimizing false positives and false negatives."
      ],
      "metadata": {
        "id": "b-ozmpzWPNYk"
      }
    },
    {
      "cell_type": "markdown",
      "source": [
        "# Set Up the Environment"
      ],
      "metadata": {
        "id": "aYDQ83H0CQBF"
      }
    },
    {
      "cell_type": "code",
      "execution_count": null,
      "metadata": {
        "colab": {
          "base_uri": "https://localhost:8080/"
        },
        "id": "C7hWWMCsN6Xg",
        "outputId": "ee30c136-fb3a-4b2e-dea7-9839955ce417"
      },
      "outputs": [
        {
          "name": "stdout",
          "output_type": "stream",
          "text": [
            "Requirement already satisfied: pandas in /usr/local/lib/python3.10/dist-packages (2.0.3)\n",
            "Requirement already satisfied: scikit-learn in /usr/local/lib/python3.10/dist-packages (1.2.2)\n",
            "Requirement already satisfied: tensorflow in /usr/local/lib/python3.10/dist-packages (2.15.0)\n",
            "Requirement already satisfied: python-dateutil>=2.8.2 in /usr/local/lib/python3.10/dist-packages (from pandas) (2.8.2)\n",
            "Requirement already satisfied: pytz>=2020.1 in /usr/local/lib/python3.10/dist-packages (from pandas) (2023.4)\n",
            "Requirement already satisfied: tzdata>=2022.1 in /usr/local/lib/python3.10/dist-packages (from pandas) (2024.1)\n",
            "Requirement already satisfied: numpy>=1.21.0 in /usr/local/lib/python3.10/dist-packages (from pandas) (1.25.2)\n",
            "Requirement already satisfied: scipy>=1.3.2 in /usr/local/lib/python3.10/dist-packages (from scikit-learn) (1.11.4)\n",
            "Requirement already satisfied: joblib>=1.1.1 in /usr/local/lib/python3.10/dist-packages (from scikit-learn) (1.4.2)\n",
            "Requirement already satisfied: threadpoolctl>=2.0.0 in /usr/local/lib/python3.10/dist-packages (from scikit-learn) (3.5.0)\n",
            "Requirement already satisfied: absl-py>=1.0.0 in /usr/local/lib/python3.10/dist-packages (from tensorflow) (1.4.0)\n",
            "Requirement already satisfied: astunparse>=1.6.0 in /usr/local/lib/python3.10/dist-packages (from tensorflow) (1.6.3)\n",
            "Requirement already satisfied: flatbuffers>=23.5.26 in /usr/local/lib/python3.10/dist-packages (from tensorflow) (24.3.25)\n",
            "Requirement already satisfied: gast!=0.5.0,!=0.5.1,!=0.5.2,>=0.2.1 in /usr/local/lib/python3.10/dist-packages (from tensorflow) (0.6.0)\n",
            "Requirement already satisfied: google-pasta>=0.1.1 in /usr/local/lib/python3.10/dist-packages (from tensorflow) (0.2.0)\n",
            "Requirement already satisfied: h5py>=2.9.0 in /usr/local/lib/python3.10/dist-packages (from tensorflow) (3.9.0)\n",
            "Requirement already satisfied: libclang>=13.0.0 in /usr/local/lib/python3.10/dist-packages (from tensorflow) (18.1.1)\n",
            "Requirement already satisfied: ml-dtypes~=0.2.0 in /usr/local/lib/python3.10/dist-packages (from tensorflow) (0.2.0)\n",
            "Requirement already satisfied: opt-einsum>=2.3.2 in /usr/local/lib/python3.10/dist-packages (from tensorflow) (3.3.0)\n",
            "Requirement already satisfied: packaging in /usr/local/lib/python3.10/dist-packages (from tensorflow) (24.1)\n",
            "Requirement already satisfied: protobuf!=4.21.0,!=4.21.1,!=4.21.2,!=4.21.3,!=4.21.4,!=4.21.5,<5.0.0dev,>=3.20.3 in /usr/local/lib/python3.10/dist-packages (from tensorflow) (3.20.3)\n",
            "Requirement already satisfied: setuptools in /usr/local/lib/python3.10/dist-packages (from tensorflow) (71.0.4)\n",
            "Requirement already satisfied: six>=1.12.0 in /usr/local/lib/python3.10/dist-packages (from tensorflow) (1.16.0)\n",
            "Requirement already satisfied: termcolor>=1.1.0 in /usr/local/lib/python3.10/dist-packages (from tensorflow) (2.4.0)\n",
            "Requirement already satisfied: typing-extensions>=3.6.6 in /usr/local/lib/python3.10/dist-packages (from tensorflow) (4.12.2)\n",
            "Requirement already satisfied: wrapt<1.15,>=1.11.0 in /usr/local/lib/python3.10/dist-packages (from tensorflow) (1.14.1)\n",
            "Requirement already satisfied: tensorflow-io-gcs-filesystem>=0.23.1 in /usr/local/lib/python3.10/dist-packages (from tensorflow) (0.37.1)\n",
            "Requirement already satisfied: grpcio<2.0,>=1.24.3 in /usr/local/lib/python3.10/dist-packages (from tensorflow) (1.64.1)\n",
            "Requirement already satisfied: tensorboard<2.16,>=2.15 in /usr/local/lib/python3.10/dist-packages (from tensorflow) (2.15.2)\n",
            "Requirement already satisfied: tensorflow-estimator<2.16,>=2.15.0 in /usr/local/lib/python3.10/dist-packages (from tensorflow) (2.15.0)\n",
            "Requirement already satisfied: keras<2.16,>=2.15.0 in /usr/local/lib/python3.10/dist-packages (from tensorflow) (2.15.0)\n",
            "Requirement already satisfied: wheel<1.0,>=0.23.0 in /usr/local/lib/python3.10/dist-packages (from astunparse>=1.6.0->tensorflow) (0.43.0)\n",
            "Requirement already satisfied: google-auth<3,>=1.6.3 in /usr/local/lib/python3.10/dist-packages (from tensorboard<2.16,>=2.15->tensorflow) (2.27.0)\n",
            "Requirement already satisfied: google-auth-oauthlib<2,>=0.5 in /usr/local/lib/python3.10/dist-packages (from tensorboard<2.16,>=2.15->tensorflow) (1.2.1)\n",
            "Requirement already satisfied: markdown>=2.6.8 in /usr/local/lib/python3.10/dist-packages (from tensorboard<2.16,>=2.15->tensorflow) (3.6)\n",
            "Requirement already satisfied: requests<3,>=2.21.0 in /usr/local/lib/python3.10/dist-packages (from tensorboard<2.16,>=2.15->tensorflow) (2.31.0)\n",
            "Requirement already satisfied: tensorboard-data-server<0.8.0,>=0.7.0 in /usr/local/lib/python3.10/dist-packages (from tensorboard<2.16,>=2.15->tensorflow) (0.7.2)\n",
            "Requirement already satisfied: werkzeug>=1.0.1 in /usr/local/lib/python3.10/dist-packages (from tensorboard<2.16,>=2.15->tensorflow) (3.0.3)\n",
            "Requirement already satisfied: cachetools<6.0,>=2.0.0 in /usr/local/lib/python3.10/dist-packages (from google-auth<3,>=1.6.3->tensorboard<2.16,>=2.15->tensorflow) (5.4.0)\n",
            "Requirement already satisfied: pyasn1-modules>=0.2.1 in /usr/local/lib/python3.10/dist-packages (from google-auth<3,>=1.6.3->tensorboard<2.16,>=2.15->tensorflow) (0.4.0)\n",
            "Requirement already satisfied: rsa<5,>=3.1.4 in /usr/local/lib/python3.10/dist-packages (from google-auth<3,>=1.6.3->tensorboard<2.16,>=2.15->tensorflow) (4.9)\n",
            "Requirement already satisfied: requests-oauthlib>=0.7.0 in /usr/local/lib/python3.10/dist-packages (from google-auth-oauthlib<2,>=0.5->tensorboard<2.16,>=2.15->tensorflow) (1.3.1)\n",
            "Requirement already satisfied: charset-normalizer<4,>=2 in /usr/local/lib/python3.10/dist-packages (from requests<3,>=2.21.0->tensorboard<2.16,>=2.15->tensorflow) (3.3.2)\n",
            "Requirement already satisfied: idna<4,>=2.5 in /usr/local/lib/python3.10/dist-packages (from requests<3,>=2.21.0->tensorboard<2.16,>=2.15->tensorflow) (3.7)\n",
            "Requirement already satisfied: urllib3<3,>=1.21.1 in /usr/local/lib/python3.10/dist-packages (from requests<3,>=2.21.0->tensorboard<2.16,>=2.15->tensorflow) (2.0.7)\n",
            "Requirement already satisfied: certifi>=2017.4.17 in /usr/local/lib/python3.10/dist-packages (from requests<3,>=2.21.0->tensorboard<2.16,>=2.15->tensorflow) (2024.7.4)\n",
            "Requirement already satisfied: MarkupSafe>=2.1.1 in /usr/local/lib/python3.10/dist-packages (from werkzeug>=1.0.1->tensorboard<2.16,>=2.15->tensorflow) (2.1.5)\n",
            "Requirement already satisfied: pyasn1<0.7.0,>=0.4.6 in /usr/local/lib/python3.10/dist-packages (from pyasn1-modules>=0.2.1->google-auth<3,>=1.6.3->tensorboard<2.16,>=2.15->tensorflow) (0.6.0)\n",
            "Requirement already satisfied: oauthlib>=3.0.0 in /usr/local/lib/python3.10/dist-packages (from requests-oauthlib>=0.7.0->google-auth-oauthlib<2,>=0.5->tensorboard<2.16,>=2.15->tensorflow) (3.2.2)\n"
          ]
        }
      ],
      "source": [
        "!pip install pandas scikit-learn tensorflow\n"
      ]
    },
    {
      "cell_type": "markdown",
      "source": [
        "Download and Load the Dataset"
      ],
      "metadata": {
        "id": "BqjYNLJwCU0b"
      }
    },
    {
      "cell_type": "code",
      "execution_count": null,
      "metadata": {
        "colab": {
          "base_uri": "https://localhost:8080/"
        },
        "id": "sepx22lgN-lR",
        "outputId": "74b0d7db-5e95-4ece-c714-def5a9773072"
      },
      "outputs": [
        {
          "name": "stdout",
          "output_type": "stream",
          "text": [
            "Requirement already satisfied: kaggle in /usr/local/lib/python3.10/dist-packages (1.6.14)\n",
            "Requirement already satisfied: six>=1.10 in /usr/local/lib/python3.10/dist-packages (from kaggle) (1.16.0)\n",
            "Requirement already satisfied: certifi>=2023.7.22 in /usr/local/lib/python3.10/dist-packages (from kaggle) (2024.7.4)\n",
            "Requirement already satisfied: python-dateutil in /usr/local/lib/python3.10/dist-packages (from kaggle) (2.8.2)\n",
            "Requirement already satisfied: requests in /usr/local/lib/python3.10/dist-packages (from kaggle) (2.31.0)\n",
            "Requirement already satisfied: tqdm in /usr/local/lib/python3.10/dist-packages (from kaggle) (4.66.4)\n",
            "Requirement already satisfied: python-slugify in /usr/local/lib/python3.10/dist-packages (from kaggle) (8.0.4)\n",
            "Requirement already satisfied: urllib3 in /usr/local/lib/python3.10/dist-packages (from kaggle) (2.0.7)\n",
            "Requirement already satisfied: bleach in /usr/local/lib/python3.10/dist-packages (from kaggle) (6.1.0)\n",
            "Requirement already satisfied: webencodings in /usr/local/lib/python3.10/dist-packages (from bleach->kaggle) (0.5.1)\n",
            "Requirement already satisfied: text-unidecode>=1.3 in /usr/local/lib/python3.10/dist-packages (from python-slugify->kaggle) (1.3)\n",
            "Requirement already satisfied: charset-normalizer<4,>=2 in /usr/local/lib/python3.10/dist-packages (from requests->kaggle) (3.3.2)\n",
            "Requirement already satisfied: idna<4,>=2.5 in /usr/local/lib/python3.10/dist-packages (from requests->kaggle) (3.7)\n"
          ]
        }
      ],
      "source": [
        "!pip install kaggle\n"
      ]
    },
    {
      "cell_type": "markdown",
      "source": [
        "Move the kaggle.json file to the correct location:"
      ],
      "metadata": {
        "id": "tjVuqq8iCr0F"
      }
    },
    {
      "cell_type": "code",
      "execution_count": null,
      "metadata": {
        "colab": {
          "base_uri": "https://localhost:8080/"
        },
        "id": "-h6rerwVOIou",
        "outputId": "a5300c40-177b-44b3-d92f-0cb8f8516be3"
      },
      "outputs": [
        {
          "name": "stdout",
          "output_type": "stream",
          "text": [
            "mv: cannot stat 'kaggle.json': No such file or directory\n",
            "chmod: cannot access '/root/.kaggle/kaggle.json': No such file or directory\n"
          ]
        }
      ],
      "source": [
        "!mkdir -p ~/.kaggle\n",
        "!mv kaggle.json ~/.kaggle/\n",
        "!chmod 600 ~/.kaggle/kaggle.json\n"
      ]
    },
    {
      "cell_type": "markdown",
      "source": [
        "Download the dataset:"
      ],
      "metadata": {
        "id": "Ttm178gWC6Yq"
      }
    },
    {
      "cell_type": "code",
      "execution_count": null,
      "metadata": {
        "colab": {
          "base_uri": "https://localhost:8080/"
        },
        "id": "ndbFzuXvOK-7",
        "outputId": "e170f0e2-b016-4c82-fe19-1324a08433e3"
      },
      "outputs": [
        {
          "name": "stdout",
          "output_type": "stream",
          "text": [
            "Warning: Looks like you're using an outdated API Version, please consider updating (server 1.6.15 / client 1.6.14)\n",
            "Dataset URL: https://www.kaggle.com/datasets/mlg-ulb/creditcardfraud\n",
            "License(s): DbCL-1.0\n",
            "Downloading creditcardfraud.zip to /content\n",
            " 68% 45.0M/66.0M [00:01<00:00, 28.2MB/s]\n",
            "100% 66.0M/66.0M [00:01<00:00, 52.5MB/s]\n",
            "Archive:  creditcardfraud.zip\n",
            "  inflating: creditcard.csv          \n"
          ]
        }
      ],
      "source": [
        "!kaggle datasets download -d mlg-ulb/creditcardfraud\n",
        "!unzip creditcardfraud.zip\n"
      ]
    },
    {
      "cell_type": "markdown",
      "source": [
        "Load the dataset:"
      ],
      "metadata": {
        "id": "OI1oIxA9DEhX"
      }
    },
    {
      "cell_type": "code",
      "execution_count": null,
      "metadata": {
        "id": "dZX3aY87ON-G"
      },
      "outputs": [],
      "source": [
        "import pandas as pd\n",
        "\n",
        "# Load the dataset\n",
        "data = pd.read_csv('creditcard.csv')\n"
      ]
    },
    {
      "cell_type": "markdown",
      "source": [
        "# Preprocess the Data\n",
        "Separate features and target:"
      ],
      "metadata": {
        "id": "fC3twXhzDLDr"
      }
    },
    {
      "cell_type": "code",
      "execution_count": null,
      "metadata": {
        "id": "_2vcU4j0OQYP"
      },
      "outputs": [],
      "source": [
        "X = data.drop('Class', axis=1)\n",
        "y = data['Class']\n"
      ]
    },
    {
      "cell_type": "markdown",
      "source": [
        "Split the data:"
      ],
      "metadata": {
        "id": "lFK2FTRtDatP"
      }
    },
    {
      "cell_type": "code",
      "execution_count": null,
      "metadata": {
        "id": "FbgVJ8YGOS_-"
      },
      "outputs": [],
      "source": [
        "from sklearn.model_selection import train_test_split\n",
        "\n",
        "X_train, X_temp, y_train, y_temp = train_test_split(X, y, test_size=0.3, random_state=42)\n",
        "X_val, X_test, y_val, y_test = train_test_split(X_temp, y_temp, test_size=0.5, random_state=42)\n"
      ]
    },
    {
      "cell_type": "markdown",
      "source": [
        "Normalize the data:"
      ],
      "metadata": {
        "id": "H9VHemsdDcPX"
      }
    },
    {
      "cell_type": "code",
      "execution_count": null,
      "metadata": {
        "id": "_vw0BHc5Opa9"
      },
      "outputs": [],
      "source": [
        "from sklearn.preprocessing import StandardScaler\n",
        "\n",
        "scaler = StandardScaler()\n",
        "X_train = scaler.fit_transform(X_train)\n",
        "X_val = scaler.transform(X_val)\n",
        "X_test = scaler.transform(X_test)\n"
      ]
    },
    {
      "cell_type": "markdown",
      "source": [
        "# Build the Model"
      ],
      "metadata": {
        "id": "GastvyKZDiRI"
      }
    },
    {
      "cell_type": "code",
      "execution_count": null,
      "metadata": {
        "id": "clH4Fz7OOss9"
      },
      "outputs": [],
      "source": [
        "import tensorflow as tf\n",
        "from tensorflow.keras.models import Sequential\n",
        "from tensorflow.keras.layers import Dense, Dropout\n",
        "\n",
        "model = Sequential([\n",
        "    Dense(64, input_dim=X_train.shape[1], activation='relu'),\n",
        "    Dropout(0.5),\n",
        "    Dense(32, activation='relu'),\n",
        "    Dropout(0.5),\n",
        "    Dense(1, activation='sigmoid')\n",
        "])\n",
        "\n",
        "model.compile(optimizer='adam', loss='binary_crossentropy', metrics=['accuracy'])\n"
      ]
    },
    {
      "cell_type": "markdown",
      "source": [
        "# Train the Model"
      ],
      "metadata": {
        "id": "s3RfpFc-DnEN"
      }
    },
    {
      "cell_type": "code",
      "execution_count": null,
      "metadata": {
        "colab": {
          "base_uri": "https://localhost:8080/"
        },
        "id": "FRgKIKDxOvv9",
        "outputId": "81b73a95-fbf8-411d-9e92-094b82e670cf"
      },
      "outputs": [
        {
          "name": "stdout",
          "output_type": "stream",
          "text": [
            "Epoch 1/50\n",
            "6231/6231 [==============================] - 36s 5ms/step - loss: 0.0149 - accuracy: 0.9973 - val_loss: 0.0039 - val_accuracy: 0.9992\n",
            "Epoch 2/50\n",
            "6231/6231 [==============================] - 25s 4ms/step - loss: 0.0053 - accuracy: 0.9992 - val_loss: 0.0041 - val_accuracy: 0.9993\n",
            "Epoch 3/50\n",
            "6231/6231 [==============================] - 26s 4ms/step - loss: 0.0047 - accuracy: 0.9993 - val_loss: 0.0033 - val_accuracy: 0.9993\n",
            "Epoch 4/50\n",
            "6231/6231 [==============================] - 26s 4ms/step - loss: 0.0044 - accuracy: 0.9992 - val_loss: 0.0035 - val_accuracy: 0.9994\n",
            "Epoch 5/50\n",
            "6231/6231 [==============================] - 27s 4ms/step - loss: 0.0041 - accuracy: 0.9992 - val_loss: 0.0041 - val_accuracy: 0.9991\n",
            "Epoch 6/50\n",
            "6231/6231 [==============================] - 26s 4ms/step - loss: 0.0041 - accuracy: 0.9992 - val_loss: 0.0035 - val_accuracy: 0.9993\n",
            "Epoch 7/50\n",
            "6231/6231 [==============================] - 26s 4ms/step - loss: 0.0038 - accuracy: 0.9993 - val_loss: 0.0043 - val_accuracy: 0.9993\n",
            "Epoch 8/50\n",
            "6231/6231 [==============================] - 24s 4ms/step - loss: 0.0039 - accuracy: 0.9993 - val_loss: 0.0037 - val_accuracy: 0.9993\n",
            "Epoch 9/50\n",
            "6231/6231 [==============================] - 24s 4ms/step - loss: 0.0035 - accuracy: 0.9993 - val_loss: 0.0029 - val_accuracy: 0.9992\n",
            "Epoch 10/50\n",
            "6231/6231 [==============================] - 24s 4ms/step - loss: 0.0036 - accuracy: 0.9993 - val_loss: 0.0034 - val_accuracy: 0.9993\n",
            "Epoch 11/50\n",
            "6231/6231 [==============================] - 25s 4ms/step - loss: 0.0035 - accuracy: 0.9993 - val_loss: 0.0038 - val_accuracy: 0.9993\n",
            "Epoch 12/50\n",
            "6231/6231 [==============================] - 24s 4ms/step - loss: 0.0036 - accuracy: 0.9993 - val_loss: 0.0043 - val_accuracy: 0.9992\n",
            "Epoch 13/50\n",
            "6231/6231 [==============================] - 24s 4ms/step - loss: 0.0035 - accuracy: 0.9993 - val_loss: 0.0038 - val_accuracy: 0.9994\n",
            "Epoch 14/50\n",
            "6231/6231 [==============================] - 25s 4ms/step - loss: 0.0032 - accuracy: 0.9994 - val_loss: 0.0033 - val_accuracy: 0.9994\n",
            "Epoch 15/50\n",
            "6231/6231 [==============================] - 25s 4ms/step - loss: 0.0034 - accuracy: 0.9993 - val_loss: 0.0041 - val_accuracy: 0.9994\n",
            "Epoch 16/50\n",
            "6231/6231 [==============================] - 26s 4ms/step - loss: 0.0036 - accuracy: 0.9994 - val_loss: 0.0040 - val_accuracy: 0.9993\n",
            "Epoch 17/50\n",
            "6231/6231 [==============================] - 27s 4ms/step - loss: 0.0034 - accuracy: 0.9993 - val_loss: 0.0031 - val_accuracy: 0.9993\n",
            "Epoch 18/50\n",
            "6231/6231 [==============================] - 25s 4ms/step - loss: 0.0035 - accuracy: 0.9992 - val_loss: 0.0036 - val_accuracy: 0.9993\n",
            "Epoch 19/50\n",
            "6231/6231 [==============================] - 24s 4ms/step - loss: 0.0033 - accuracy: 0.9993 - val_loss: 0.0035 - val_accuracy: 0.9992\n",
            "Epoch 20/50\n",
            "6231/6231 [==============================] - 25s 4ms/step - loss: 0.0032 - accuracy: 0.9994 - val_loss: 0.0043 - val_accuracy: 0.9992\n",
            "Epoch 21/50\n",
            "6231/6231 [==============================] - 25s 4ms/step - loss: 0.0032 - accuracy: 0.9994 - val_loss: 0.0032 - val_accuracy: 0.9993\n",
            "Epoch 22/50\n",
            "6231/6231 [==============================] - 25s 4ms/step - loss: 0.0034 - accuracy: 0.9993 - val_loss: 0.0042 - val_accuracy: 0.9992\n",
            "Epoch 23/50\n",
            "6231/6231 [==============================] - 26s 4ms/step - loss: 0.0030 - accuracy: 0.9994 - val_loss: 0.0049 - val_accuracy: 0.9993\n",
            "Epoch 24/50\n",
            "6231/6231 [==============================] - 26s 4ms/step - loss: 0.0032 - accuracy: 0.9993 - val_loss: 0.0040 - val_accuracy: 0.9993\n",
            "Epoch 25/50\n",
            "6231/6231 [==============================] - 24s 4ms/step - loss: 0.0032 - accuracy: 0.9993 - val_loss: 0.0033 - val_accuracy: 0.9993\n",
            "Epoch 26/50\n",
            "6231/6231 [==============================] - 24s 4ms/step - loss: 0.0035 - accuracy: 0.9994 - val_loss: 0.0042 - val_accuracy: 0.9992\n",
            "Epoch 27/50\n",
            "6231/6231 [==============================] - 26s 4ms/step - loss: 0.0033 - accuracy: 0.9993 - val_loss: 0.0039 - val_accuracy: 0.9992\n",
            "Epoch 28/50\n",
            "6231/6231 [==============================] - 24s 4ms/step - loss: 0.0033 - accuracy: 0.9994 - val_loss: 0.0046 - val_accuracy: 0.9994\n",
            "Epoch 29/50\n",
            "6231/6231 [==============================] - 24s 4ms/step - loss: 0.0034 - accuracy: 0.9994 - val_loss: 0.0049 - val_accuracy: 0.9994\n",
            "Epoch 30/50\n",
            "6231/6231 [==============================] - 26s 4ms/step - loss: 0.0034 - accuracy: 0.9993 - val_loss: 0.0042 - val_accuracy: 0.9994\n",
            "Epoch 31/50\n",
            "6231/6231 [==============================] - 23s 4ms/step - loss: 0.0034 - accuracy: 0.9993 - val_loss: 0.0050 - val_accuracy: 0.9994\n",
            "Epoch 32/50\n",
            "6231/6231 [==============================] - 24s 4ms/step - loss: 0.0030 - accuracy: 0.9994 - val_loss: 0.0054 - val_accuracy: 0.9993\n",
            "Epoch 33/50\n",
            "6231/6231 [==============================] - 25s 4ms/step - loss: 0.0031 - accuracy: 0.9993 - val_loss: 0.0046 - val_accuracy: 0.9994\n",
            "Epoch 34/50\n",
            "6231/6231 [==============================] - 25s 4ms/step - loss: 0.0033 - accuracy: 0.9994 - val_loss: 0.0050 - val_accuracy: 0.9993\n",
            "Epoch 35/50\n",
            "6231/6231 [==============================] - 24s 4ms/step - loss: 0.0033 - accuracy: 0.9994 - val_loss: 0.0037 - val_accuracy: 0.9994\n",
            "Epoch 36/50\n",
            "6231/6231 [==============================] - 24s 4ms/step - loss: 0.0033 - accuracy: 0.9993 - val_loss: 0.0046 - val_accuracy: 0.9994\n",
            "Epoch 37/50\n",
            "6231/6231 [==============================] - 24s 4ms/step - loss: 0.0031 - accuracy: 0.9994 - val_loss: 0.0051 - val_accuracy: 0.9995\n",
            "Epoch 38/50\n",
            "6231/6231 [==============================] - 28s 5ms/step - loss: 0.0032 - accuracy: 0.9994 - val_loss: 0.0042 - val_accuracy: 0.9995\n",
            "Epoch 39/50\n",
            "6231/6231 [==============================] - 25s 4ms/step - loss: 0.0035 - accuracy: 0.9993 - val_loss: 0.0046 - val_accuracy: 0.9993\n",
            "Epoch 40/50\n",
            "6231/6231 [==============================] - 24s 4ms/step - loss: 0.0032 - accuracy: 0.9994 - val_loss: 0.0044 - val_accuracy: 0.9994\n",
            "Epoch 41/50\n",
            "6231/6231 [==============================] - 24s 4ms/step - loss: 0.0031 - accuracy: 0.9994 - val_loss: 0.0050 - val_accuracy: 0.9995\n",
            "Epoch 42/50\n",
            "6231/6231 [==============================] - 23s 4ms/step - loss: 0.0029 - accuracy: 0.9994 - val_loss: 0.0044 - val_accuracy: 0.9994\n",
            "Epoch 43/50\n",
            "6231/6231 [==============================] - 24s 4ms/step - loss: 0.0032 - accuracy: 0.9993 - val_loss: 0.0050 - val_accuracy: 0.9994\n",
            "Epoch 44/50\n",
            "6231/6231 [==============================] - 25s 4ms/step - loss: 0.0035 - accuracy: 0.9993 - val_loss: 0.0057 - val_accuracy: 0.9993\n",
            "Epoch 45/50\n",
            "6231/6231 [==============================] - 24s 4ms/step - loss: 0.0030 - accuracy: 0.9994 - val_loss: 0.0066 - val_accuracy: 0.9993\n",
            "Epoch 46/50\n",
            "6231/6231 [==============================] - 24s 4ms/step - loss: 0.0030 - accuracy: 0.9993 - val_loss: 0.0052 - val_accuracy: 0.9993\n",
            "Epoch 47/50\n",
            "6231/6231 [==============================] - 25s 4ms/step - loss: 0.0030 - accuracy: 0.9993 - val_loss: 0.0066 - val_accuracy: 0.9994\n",
            "Epoch 48/50\n",
            "6231/6231 [==============================] - 24s 4ms/step - loss: 0.0032 - accuracy: 0.9994 - val_loss: 0.0073 - val_accuracy: 0.9993\n",
            "Epoch 49/50\n",
            "6231/6231 [==============================] - 25s 4ms/step - loss: 0.0028 - accuracy: 0.9993 - val_loss: 0.0075 - val_accuracy: 0.9993\n",
            "Epoch 50/50\n",
            "6231/6231 [==============================] - 26s 4ms/step - loss: 0.0030 - accuracy: 0.9993 - val_loss: 0.0073 - val_accuracy: 0.9993\n"
          ]
        }
      ],
      "source": [
        "history = model.fit(X_train, y_train, epochs=50, batch_size=32, validation_data=(X_val, y_val))\n"
      ]
    },
    {
      "cell_type": "markdown",
      "source": [
        "# Evaluate the Model\n"
      ],
      "metadata": {
        "id": "ueEr3YghDu7o"
      }
    },
    {
      "cell_type": "code",
      "execution_count": null,
      "metadata": {
        "colab": {
          "base_uri": "https://localhost:8080/"
        },
        "id": "67ckon8DOy1s",
        "outputId": "a340113c-4518-468b-8c12-1b89e7e3fbf2"
      },
      "outputs": [
        {
          "name": "stdout",
          "output_type": "stream",
          "text": [
            "1336/1336 [==============================] - 3s 2ms/step - loss: 0.0038 - accuracy: 0.9996\n",
            "Test Accuracy: 1.00\n",
            "1336/1336 [==============================] - 2s 1ms/step\n",
            "              precision    recall  f1-score   support\n",
            "\n",
            "           0       1.00      1.00      1.00     42663\n",
            "           1       0.92      0.80      0.85        59\n",
            "\n",
            "    accuracy                           1.00     42722\n",
            "   macro avg       0.96      0.90      0.93     42722\n",
            "weighted avg       1.00      1.00      1.00     42722\n",
            "\n",
            "[[42659     4]\n",
            " [   12    47]]\n"
          ]
        }
      ],
      "source": [
        "from sklearn.metrics import classification_report, confusion_matrix\n",
        "\n",
        "# Evaluate the model\n",
        "loss, accuracy = model.evaluate(X_test, y_test)\n",
        "print(f\"Test Accuracy: {accuracy:.2f}\")\n",
        "\n",
        "# Predict on the test set\n",
        "y_pred = model.predict(X_test)\n",
        "y_pred_binary = (y_pred > 0.5).astype(int)\n",
        "\n",
        "# Calculate metrics\n",
        "print(classification_report(y_test, y_pred_binary))\n",
        "print(confusion_matrix(y_test, y_pred_binary))\n"
      ]
    },
    {
      "cell_type": "markdown",
      "source": [
        "#Key Performance Metrics\n",
        "\n",
        "When evaluating the performance of a fraud detection model, several key metrics and methods are important to consider due to the imbalanced nature of the dataset (fraudulent transactions are usually a small fraction of the total transactions). Here are the key aspects to focus on:\n",
        "\n",
        "\n",
        "**1. Accuracy:**\n",
        "\n",
        "Accuracy is the ratio of correctly predicted instances to the total instances. However, in imbalanced datasets, accuracy alone can be misleading."
      ],
      "metadata": {
        "id": "jAX8ysn4FLDA"
      }
    },
    {
      "cell_type": "code",
      "source": [
        "from sklearn.metrics import accuracy_score\n",
        "\n",
        "accuracy = accuracy_score(y_test, y_pred_binary)\n",
        "print(f\"Accuracy: {accuracy:.2f}\")\n"
      ],
      "metadata": {
        "id": "t0H7z9tgFZkc"
      },
      "execution_count": null,
      "outputs": []
    },
    {
      "cell_type": "markdown",
      "source": [
        "**2. Confusion Matrix:**\n",
        "\n",
        "The confusion matrix provides a summary of prediction results on a classification problem. It shows the number of true positives (TP), true negatives (TN), false positives (FP), and false negatives (FN).\n"
      ],
      "metadata": {
        "id": "vB4aGvM2FcAF"
      }
    },
    {
      "cell_type": "code",
      "source": [
        "from sklearn.metrics import confusion_matrix\n",
        "\n",
        "cm = confusion_matrix(y_test, y_pred_binary)\n",
        "print(cm)\n"
      ],
      "metadata": {
        "id": "ifAYYWHcFtTN"
      },
      "execution_count": null,
      "outputs": []
    },
    {
      "cell_type": "markdown",
      "source": [
        "3. **Precision, Recall, and F1-Score:**\n",
        "\n",
        "-Precision: The ratio of correctly predicted positive observations to the total predicted positives. Precision is a measure of the model's accuracy in identifying positive instances.\n",
        "\n",
        "-Recall (Sensitivity): The ratio of correctly predicted positive observations to all observations in the actual class. Recall is a measure of the model's ability to identify all relevant instances.\n",
        "\n",
        "-F1-Score: The harmonic mean of precision and recall. It provides a balance between precision and recall."
      ],
      "metadata": {
        "id": "bYv-VrZ2F3N1"
      }
    },
    {
      "cell_type": "code",
      "source": [
        "from sklearn.metrics import precision_score, recall_score, f1_score\n",
        "\n",
        "precision = precision_score(y_test, y_pred_binary)\n",
        "recall = recall_score(y_test, y_pred_binary)\n",
        "f1 = f1_score(y_test, y_pred_binary)\n",
        "\n",
        "print(f\"Precision: {precision:.2f}\")\n",
        "print(f\"Recall: {recall:.2f}\")\n",
        "print(f\"F1-Score: {f1:.2f}\")\n"
      ],
      "metadata": {
        "id": "nadq2fAlGQgK"
      },
      "execution_count": null,
      "outputs": []
    },
    {
      "cell_type": "markdown",
      "source": [
        "**4. ROC-AUC Score:**\n",
        "\n",
        "The ROC-AUC score is the area under the receiver operating characteristic (ROC) curve. It provides an aggregate measure of performance across all classification thresholds."
      ],
      "metadata": {
        "id": "BUWztYvVGU4w"
      }
    },
    {
      "cell_type": "code",
      "source": [
        "from sklearn.metrics import roc_auc_score\n",
        "\n",
        "roc_auc = roc_auc_score(y_test, y_pred)\n",
        "print(f\"ROC-AUC Score: {roc_auc:.2f}\")\n"
      ],
      "metadata": {
        "id": "70aA-nNRG_im"
      },
      "execution_count": null,
      "outputs": []
    },
    {
      "cell_type": "markdown",
      "source": [
        "# Additional Evaluation Techniques\n",
        "**1. Plotting the ROC Curve:**\n",
        "\n",
        "The ROC curve is a graphical representation of the true positive rate versus the false positive rate at various threshold settings."
      ],
      "metadata": {
        "id": "o3cIKII0HNqA"
      }
    },
    {
      "cell_type": "code",
      "source": [
        "import matplotlib.pyplot as plt\n",
        "from sklearn.metrics import roc_curve\n",
        "\n",
        "fpr, tpr, thresholds = roc_curve(y_test, y_pred)\n",
        "\n",
        "plt.plot(fpr, tpr, label='ROC curve (area = %0.2f)' % roc_auc)\n",
        "plt.plot([0, 1], [0, 1], 'k--')\n",
        "plt.xlim([0.0, 1.0])\n",
        "plt.ylim([0.0, 1.05])\n",
        "plt.xlabel('False Positive Rate')\n",
        "plt.ylabel('True Positive Rate')\n",
        "plt.title('Receiver Operating Characteristic (ROC)')\n",
        "plt.legend(loc=\"lower right\")\n",
        "plt.show()\n"
      ],
      "metadata": {
        "id": "L_qd-jIuHWby"
      },
      "execution_count": null,
      "outputs": []
    },
    {
      "cell_type": "markdown",
      "source": [
        "**2. Class Distribution:**\n",
        "\n",
        "Understanding the class distribution in the dataset is crucial for evaluating the model's performance. In fraud detection, the positive class (fraud) is usually much smaller than the negative class (non-fraud)."
      ],
      "metadata": {
        "id": "0GFXySOXHZ4Z"
      }
    },
    {
      "cell_type": "code",
      "source": [
        "print(y.value_counts())\n"
      ],
      "metadata": {
        "id": "F5Kp-fX9H3CM"
      },
      "execution_count": null,
      "outputs": []
    },
    {
      "cell_type": "markdown",
      "source": [
        "complete block"
      ],
      "metadata": {
        "id": "VsNd6tfhIKqF"
      }
    },
    {
      "cell_type": "code",
      "source": [
        "from sklearn.metrics import accuracy_score, confusion_matrix, precision_score, recall_score, f1_score, roc_auc_score, roc_curve\n",
        "import matplotlib.pyplot as plt\n",
        "\n",
        "# Predict on the test set\n",
        "y_pred = model.predict(X_test)\n",
        "y_pred_binary = (y_pred > 0.5).astype(int)\n",
        "\n",
        "# Accuracy\n",
        "accuracy = accuracy_score(y_test, y_pred_binary)\n",
        "print(f\"Accuracy: {accuracy:.2f}\")\n",
        "\n",
        "# Confusion Matrix\n",
        "cm = confusion_matrix(y_test, y_pred_binary)\n",
        "print(\"Confusion Matrix:\")\n",
        "print(cm)\n",
        "\n",
        "# Precision, Recall, F1-Score\n",
        "precision = precision_score(y_test, y_pred_binary)\n",
        "recall = recall_score(y_test, y_pred_binary)\n",
        "f1 = f1_score(y_test, y_pred_binary)\n",
        "\n",
        "print(f\"Precision: {precision:.2f}\")\n",
        "print(f\"Recall: {recall:.2f}\")\n",
        "print(f\"F1-Score: {f1:.2f}\")\n",
        "\n",
        "# ROC-AUC Score\n",
        "roc_auc = roc_auc_score(y_test, y_pred)\n",
        "print(f\"ROC-AUC Score: {roc_auc:.2f}\")\n",
        "\n",
        "# ROC Curve\n",
        "fpr, tpr, thresholds = roc_curve(y_test, y_pred)\n",
        "plt.plot(fpr, tpr, label='ROC curve (area = %0.2f)' % roc_auc)\n",
        "plt.plot([0, 1], [0, 1], 'k--')\n",
        "plt.xlim([0.0, 1.0])\n",
        "plt.ylim([0.0, 1.05])\n",
        "plt.xlabel('False Positive Rate')\n",
        "plt.ylabel('True Positive Rate')\n",
        "plt.title('Receiver Operating Characteristic (ROC)')\n",
        "plt.legend(loc=\"lower right\")\n",
        "plt.show()\n"
      ],
      "metadata": {
        "id": "TrLkJTWdIP-G"
      },
      "execution_count": null,
      "outputs": []
    },
    {
      "cell_type": "markdown",
      "source": [
        "# Use the model\n",
        "\n",
        "To use the trained model for fraud detection, you'll need to prepare new data in the same way as the training data. This means the new data should have the same features and should be scaled in the same manner. Here's a step-by-step guide on how to use the model with new data:\n",
        "\n",
        "\n",
        "**Step 1: Prepare New Data**\n",
        "\n",
        "**Ensure New Data has the Same Features:**\n",
        "The new data should have the same features as the dataset used for training. Ensure the column names match exactly.\n",
        "\n",
        "**Normalize the New Data:**\n",
        "Use the same StandardScaler instance that was used to normalize the training data.\n",
        "\n",
        "**Step 2:** Load and Preprocess New Data\n",
        "Assuming you have new data in a DataFrame format:"
      ],
      "metadata": {
        "id": "FtSvxuIjJnw8"
      }
    },
    {
      "cell_type": "code",
      "source": [
        "import pandas as pd\n",
        "\n",
        "# Example new data (ensure it has the same structure and columns as the training data)\n",
        "new_data = pd.read_csv('path_to_new_data.csv')\n",
        "\n",
        "# Preprocess the new data\n",
        "# Assuming 'Class' is not present in new_data since it is the target\n",
        "# Otherwise, drop 'Class' column\n",
        "new_data_scaled = scaler.transform(new_data)\n",
        "\n",
        "# Predict with the trained model\n",
        "predictions = model.predict(new_data_scaled)\n",
        "predictions_binary = (predictions > 0.5).astype(int)\n",
        "\n",
        "# Add predictions to the new data\n",
        "new_data['Predicted_Class'] = predictions_binary\n",
        "print(new_data.head())\n"
      ],
      "metadata": {
        "id": "IffMNnieKpK5"
      },
      "execution_count": null,
      "outputs": []
    },
    {
      "cell_type": "markdown",
      "source": [
        "#Example of New Data\n",
        "Here is an example of how the new data should look like before loading it:"
      ],
      "metadata": {
        "id": "C1Zq1eLGMGxc"
      }
    },
    {
      "cell_type": "markdown",
      "source": [
        "![Captura de pantalla 2024-07-25 123717.png](data:image/png;base64,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)"
      ],
      "metadata": {
        "id": "aNUvNaPWLi_e"
      }
    },
    {
      "cell_type": "markdown",
      "source": [
        "# Full Example"
      ],
      "metadata": {
        "id": "ArHW-A9IMigB"
      }
    },
    {
      "cell_type": "code",
      "source": [
        "# Import necessary libraries\n",
        "import pandas as pd\n",
        "\n",
        "# Load the new data\n",
        "new_data = pd.read_csv('path_to_new_data.csv')\n",
        "\n",
        "# Preprocess the new data\n",
        "# Assuming 'Class' is not present in new_data since it is the target\n",
        "# If 'Class' is present, drop it\n",
        "new_data_scaled = scaler.transform(new_data)\n",
        "\n",
        "# Predict with the trained model\n",
        "predictions = model.predict(new_data_scaled)\n",
        "predictions_binary = (predictions > 0.5).astype(int)\n",
        "\n",
        "# Add predictions to the new data\n",
        "new_data['Predicted_Class'] = predictions_binary\n",
        "\n",
        "# Show the first few rows with predictions\n",
        "print(new_data.head())\n"
      ],
      "metadata": {
        "id": "akWq50ywMlDo"
      },
      "execution_count": null,
      "outputs": []
    },
    {
      "cell_type": "markdown",
      "source": [
        "#Using the Model in a Production Environment\n",
        "**Save the Model:**\n",
        "You can save the trained model and scaler for later use."
      ],
      "metadata": {
        "id": "GqKXKKUtMnf8"
      }
    },
    {
      "cell_type": "code",
      "source": [
        "# Save the model\n",
        "model.save('fraud_detection_model.h5')\n",
        "\n",
        "# Save the scaler\n",
        "import joblib\n",
        "joblib.dump(scaler, 'scaler.pkl')\n"
      ],
      "metadata": {
        "id": "6Hz4iP7MM9Tu"
      },
      "execution_count": null,
      "outputs": []
    },
    {
      "cell_type": "markdown",
      "source": [
        "**Load the Model and Scaler:**\n",
        "When you need to use the model again, load it along with the scaler."
      ],
      "metadata": {
        "id": "9rL_qUPFNES6"
      }
    },
    {
      "cell_type": "code",
      "source": [
        "# Load the model\n",
        "from tensorflow.keras.models import load_model\n",
        "model = load_model('fraud_detection_model.h5')\n",
        "\n",
        "# Load the scaler\n",
        "import joblib\n",
        "scaler = joblib.load('scaler.pkl')\n",
        "\n",
        "# Load new data\n",
        "new_data = pd.read_csv('path_to_new_data.csv')\n",
        "\n",
        "# Preprocess the new data\n",
        "new_data_scaled = scaler.transform(new_data)\n",
        "\n",
        "# Predict with the trained model\n",
        "predictions = model.predict(new_data_scaled)\n",
        "predictions_binary = (predictions > 0.5).astype(int)\n",
        "\n",
        "# Add predictions to the new data\n",
        "new_data['Predicted_Class'] = predictions_binary\n",
        "\n",
        "# Show the first few rows with predictions\n",
        "print(new_data.head())\n"
      ],
      "metadata": {
        "id": "4c5cvxtpNJAP"
      },
      "execution_count": null,
      "outputs": []
    },
    {
      "cell_type": "markdown",
      "source": [
        "By following these steps, you can effectively use the trained model to make predictions on new data. Make sure the new data is preprocessed in the same way as the training data to maintain consistency."
      ],
      "metadata": {
        "id": "vEa3dm6JNV-t"
      }
    }
  ],
  "metadata": {
    "accelerator": "GPU",
    "colab": {
      "gpuType": "T4",
      "provenance": []
    },
    "kernelspec": {
      "display_name": "Python 3",
      "name": "python3"
    },
    "language_info": {
      "name": "python"
    }
  },
  "nbformat": 4,
  "nbformat_minor": 0
}